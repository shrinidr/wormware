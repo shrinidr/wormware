{
  "cells": [
    {
      "cell_type": "markdown",
      "metadata": {
        "id": "vT6wKLjfIb7i"
      },
      "source": [
        "[![Open In Colab](https://colab.research.google.com/assets/colab-badge.svg)](https://colab.research.google.com/github/googlecolab/colabtools/blob/master/notebooks/colab-github-demo.ipynb)\n",
        "\n",
        "Install the wormpose package if needed."
      ]
    },
    {
      "cell_type": "code",
      "execution_count": 1,
      "metadata": {
        "colab": {
          "base_uri": "https://localhost:8080/"
        },
        "id": "fsA8qzq1Ib7j",
        "outputId": "2078f8f9-d1c8-4b3b-ee0e-319a41feed19"
      },
      "outputs": [
        {
          "output_type": "stream",
          "name": "stdout",
          "text": [
            "Collecting wormpose\n",
            "  Downloading wormpose-1.3.0-py3-none-any.whl.metadata (3.7 kB)\n",
            "Requirement already satisfied: opencv-python in /usr/local/lib/python3.12/dist-packages (from wormpose) (4.12.0.88)\n",
            "Requirement already satisfied: tensorflow>=2 in /usr/local/lib/python3.12/dist-packages (from wormpose) (2.19.0)\n",
            "Requirement already satisfied: numpy in /usr/local/lib/python3.12/dist-packages (from wormpose) (2.0.2)\n",
            "Requirement already satisfied: h5py in /usr/local/lib/python3.12/dist-packages (from wormpose) (3.14.0)\n",
            "Requirement already satisfied: scipy in /usr/local/lib/python3.12/dist-packages (from wormpose) (1.16.2)\n",
            "Requirement already satisfied: absl-py>=1.0.0 in /usr/local/lib/python3.12/dist-packages (from tensorflow>=2->wormpose) (1.4.0)\n",
            "Requirement already satisfied: astunparse>=1.6.0 in /usr/local/lib/python3.12/dist-packages (from tensorflow>=2->wormpose) (1.6.3)\n",
            "Requirement already satisfied: flatbuffers>=24.3.25 in /usr/local/lib/python3.12/dist-packages (from tensorflow>=2->wormpose) (25.2.10)\n",
            "Requirement already satisfied: gast!=0.5.0,!=0.5.1,!=0.5.2,>=0.2.1 in /usr/local/lib/python3.12/dist-packages (from tensorflow>=2->wormpose) (0.6.0)\n",
            "Requirement already satisfied: google-pasta>=0.1.1 in /usr/local/lib/python3.12/dist-packages (from tensorflow>=2->wormpose) (0.2.0)\n",
            "Requirement already satisfied: libclang>=13.0.0 in /usr/local/lib/python3.12/dist-packages (from tensorflow>=2->wormpose) (18.1.1)\n",
            "Requirement already satisfied: opt-einsum>=2.3.2 in /usr/local/lib/python3.12/dist-packages (from tensorflow>=2->wormpose) (3.4.0)\n",
            "Requirement already satisfied: packaging in /usr/local/lib/python3.12/dist-packages (from tensorflow>=2->wormpose) (25.0)\n",
            "Requirement already satisfied: protobuf!=4.21.0,!=4.21.1,!=4.21.2,!=4.21.3,!=4.21.4,!=4.21.5,<6.0.0dev,>=3.20.3 in /usr/local/lib/python3.12/dist-packages (from tensorflow>=2->wormpose) (5.29.5)\n",
            "Requirement already satisfied: requests<3,>=2.21.0 in /usr/local/lib/python3.12/dist-packages (from tensorflow>=2->wormpose) (2.32.4)\n",
            "Requirement already satisfied: setuptools in /usr/local/lib/python3.12/dist-packages (from tensorflow>=2->wormpose) (75.2.0)\n",
            "Requirement already satisfied: six>=1.12.0 in /usr/local/lib/python3.12/dist-packages (from tensorflow>=2->wormpose) (1.17.0)\n",
            "Requirement already satisfied: termcolor>=1.1.0 in /usr/local/lib/python3.12/dist-packages (from tensorflow>=2->wormpose) (3.1.0)\n",
            "Requirement already satisfied: typing-extensions>=3.6.6 in /usr/local/lib/python3.12/dist-packages (from tensorflow>=2->wormpose) (4.15.0)\n",
            "Requirement already satisfied: wrapt>=1.11.0 in /usr/local/lib/python3.12/dist-packages (from tensorflow>=2->wormpose) (1.17.3)\n",
            "Requirement already satisfied: grpcio<2.0,>=1.24.3 in /usr/local/lib/python3.12/dist-packages (from tensorflow>=2->wormpose) (1.75.0)\n",
            "Requirement already satisfied: tensorboard~=2.19.0 in /usr/local/lib/python3.12/dist-packages (from tensorflow>=2->wormpose) (2.19.0)\n",
            "Requirement already satisfied: keras>=3.5.0 in /usr/local/lib/python3.12/dist-packages (from tensorflow>=2->wormpose) (3.10.0)\n",
            "Requirement already satisfied: ml-dtypes<1.0.0,>=0.5.1 in /usr/local/lib/python3.12/dist-packages (from tensorflow>=2->wormpose) (0.5.3)\n",
            "Requirement already satisfied: wheel<1.0,>=0.23.0 in /usr/local/lib/python3.12/dist-packages (from astunparse>=1.6.0->tensorflow>=2->wormpose) (0.45.1)\n",
            "Requirement already satisfied: rich in /usr/local/lib/python3.12/dist-packages (from keras>=3.5.0->tensorflow>=2->wormpose) (13.9.4)\n",
            "Requirement already satisfied: namex in /usr/local/lib/python3.12/dist-packages (from keras>=3.5.0->tensorflow>=2->wormpose) (0.1.0)\n",
            "Requirement already satisfied: optree in /usr/local/lib/python3.12/dist-packages (from keras>=3.5.0->tensorflow>=2->wormpose) (0.17.0)\n",
            "Requirement already satisfied: charset_normalizer<4,>=2 in /usr/local/lib/python3.12/dist-packages (from requests<3,>=2.21.0->tensorflow>=2->wormpose) (3.4.3)\n",
            "Requirement already satisfied: idna<4,>=2.5 in /usr/local/lib/python3.12/dist-packages (from requests<3,>=2.21.0->tensorflow>=2->wormpose) (3.10)\n",
            "Requirement already satisfied: urllib3<3,>=1.21.1 in /usr/local/lib/python3.12/dist-packages (from requests<3,>=2.21.0->tensorflow>=2->wormpose) (2.5.0)\n",
            "Requirement already satisfied: certifi>=2017.4.17 in /usr/local/lib/python3.12/dist-packages (from requests<3,>=2.21.0->tensorflow>=2->wormpose) (2025.8.3)\n",
            "Requirement already satisfied: markdown>=2.6.8 in /usr/local/lib/python3.12/dist-packages (from tensorboard~=2.19.0->tensorflow>=2->wormpose) (3.9)\n",
            "Requirement already satisfied: tensorboard-data-server<0.8.0,>=0.7.0 in /usr/local/lib/python3.12/dist-packages (from tensorboard~=2.19.0->tensorflow>=2->wormpose) (0.7.2)\n",
            "Requirement already satisfied: werkzeug>=1.0.1 in /usr/local/lib/python3.12/dist-packages (from tensorboard~=2.19.0->tensorflow>=2->wormpose) (3.1.3)\n",
            "Requirement already satisfied: MarkupSafe>=2.1.1 in /usr/local/lib/python3.12/dist-packages (from werkzeug>=1.0.1->tensorboard~=2.19.0->tensorflow>=2->wormpose) (3.0.2)\n",
            "Requirement already satisfied: markdown-it-py>=2.2.0 in /usr/local/lib/python3.12/dist-packages (from rich->keras>=3.5.0->tensorflow>=2->wormpose) (4.0.0)\n",
            "Requirement already satisfied: pygments<3.0.0,>=2.13.0 in /usr/local/lib/python3.12/dist-packages (from rich->keras>=3.5.0->tensorflow>=2->wormpose) (2.19.2)\n",
            "Requirement already satisfied: mdurl~=0.1 in /usr/local/lib/python3.12/dist-packages (from markdown-it-py>=2.2.0->rich->keras>=3.5.0->tensorflow>=2->wormpose) (0.1.2)\n",
            "Downloading wormpose-1.3.0-py3-none-any.whl (22.9 MB)\n",
            "\u001b[2K   \u001b[90m━━━━━━━━━━━━━━━━━━━━━━━━━━━━━━━━━━━━━━━━\u001b[0m \u001b[32m22.9/22.9 MB\u001b[0m \u001b[31m72.0 MB/s\u001b[0m eta \u001b[36m0:00:00\u001b[0m\n",
            "\u001b[?25hInstalling collected packages: wormpose\n",
            "Successfully installed wormpose-1.3.0\n"
          ]
        }
      ],
      "source": [
        "!pip install --upgrade wormpose"
      ]
    },
    {
      "cell_type": "markdown",
      "metadata": {
        "id": "3n3Qom8MIb7k"
      },
      "source": [
        "If using Google Colab, please **restart the runtime** after installing the package: menu \"Runtime\" > \"Restart runtime\".\n",
        "\n",
        "You can also select a GPU node for faster training: menu \"Runtime\" > \"Change Runtime Type\" > select \"GPU\" in the menu \"Hardware Accelerator\""
      ]
    },
    {
      "cell_type": "markdown",
      "metadata": {
        "id": "RUoxu4W7Ib7k"
      },
      "source": [
        "We first download some utility functions to display images:"
      ]
    },
    {
      "cell_type": "code",
      "execution_count": 2,
      "metadata": {
        "colab": {
          "base_uri": "https://localhost:8080/"
        },
        "id": "Z9kgq8t4Ib7k",
        "outputId": "6166a579-8ee3-4fef-f510-c2dc17f7e3a1"
      },
      "outputs": [
        {
          "output_type": "stream",
          "name": "stdout",
          "text": [
            "--2025-09-29 20:20:18--  https://raw.githubusercontent.com/iteal/wormpose/main/examples/ipython_utils.py\n",
            "Resolving raw.githubusercontent.com (raw.githubusercontent.com)... 185.199.108.133, 185.199.109.133, 185.199.110.133, ...\n",
            "Connecting to raw.githubusercontent.com (raw.githubusercontent.com)|185.199.108.133|:443... connected.\n",
            "HTTP request sent, awaiting response... 200 OK\n",
            "Length: 1721 (1.7K) [text/plain]\n",
            "Saving to: ‘ipython_utils.py’\n",
            "\n",
            "\ripython_utils.py      0%[                    ]       0  --.-KB/s               \ripython_utils.py    100%[===================>]   1.68K  --.-KB/s    in 0s      \n",
            "\n",
            "2025-09-29 20:20:18 (33.7 MB/s) - ‘ipython_utils.py’ saved [1721/1721]\n",
            "\n"
          ]
        }
      ],
      "source": [
        "!wget https://raw.githubusercontent.com/iteal/wormpose/main/examples/ipython_utils.py"
      ]
    },
    {
      "cell_type": "markdown",
      "metadata": {
        "id": "UhkZ5n8XIb7k"
      },
      "source": [
        "## Download sample data\n",
        "\n",
        "The sample data is composed of a set of images and a h5 file containing the features."
      ]
    },
    {
      "cell_type": "code",
      "execution_count": 3,
      "metadata": {
        "colab": {
          "base_uri": "https://localhost:8080/"
        },
        "id": "K-Byt-qiIb7k",
        "outputId": "0d91af83-0f3e-4285-9a66-93243eb4c5c2"
      },
      "outputs": [
        {
          "output_type": "stream",
          "name": "stdout",
          "text": [
            "Cloning into 'wormpose_data'...\n",
            "remote: Enumerating objects: 1101, done.\u001b[K\n",
            "remote: Counting objects: 100% (45/45), done.\u001b[K\n",
            "remote: Compressing objects: 100% (42/42), done.\u001b[K\n",
            "remote: Total 1101 (delta 7), reused 0 (delta 0), pack-reused 1056 (from 1)\u001b[K\n",
            "Receiving objects: 100% (1101/1101), 64.02 MiB | 25.41 MiB/s, done.\n",
            "Resolving deltas: 100% (20/20), done.\n"
          ]
        }
      ],
      "source": [
        "sample_data_root = 'wormpose_data'\n",
        "import os, shutil\n",
        "if os.path.exists(sample_data_root):\n",
        "    shutil.rmtree(sample_data_root)\n",
        "os.mkdir(sample_data_root)\n",
        "!git clone https://github.com/iteal/wormpose_data.git"
      ]
    },
    {
      "cell_type": "markdown",
      "metadata": {
        "id": "5OoVXAYiIb7k"
      },
      "source": [
        "## Set inputs\n",
        "\n",
        "We load the sample data dataset using the \"sample_data\" default loader, and set the path of the dataset."
      ]
    },
    {
      "cell_type": "code",
      "execution_count": 4,
      "metadata": {
        "colab": {
          "base_uri": "https://localhost:8080/"
        },
        "id": "9CXC1fwvIb7l",
        "outputId": "2ea96df3-9771-47f7-dbd0-8a55397690e9"
      },
      "outputs": [
        {
          "output_type": "stream",
          "name": "stdout",
          "text": [
            "Using the default dataset loader: 'sample_data', to load the sample dataset images and labels,\n",
            " from the folder 'wormpose_data/datasets/sample_data'.\n",
            "\n"
          ]
        }
      ],
      "source": [
        "import os\n",
        "from wormpose.config import default_paths\n",
        "from wormpose.dataset.loader import load_dataset\n",
        "\n",
        "# We have different loaders for different datasets, we use \"sample_data\" for the tutorial data,\n",
        "# replace with \"tierpsy\" for Tierpsy tracker data, or with your custom dataset loader name\n",
        "dataset_loader = \"sample_data\"\n",
        "\n",
        "# Set the path to the dataset,\n",
        "# for Tierpsy tracker data this will be the root path of a folder containing subfolders for each videos\n",
        "dataset_path = \"wormpose_data/datasets/sample_data\"\n",
        "\n",
        "print(f\"Using the default dataset loader: \\'{dataset_loader}\\', to load the sample dataset images and labels,\\n from the folder \\'{dataset_path}\\'.\\n\")\n",
        "dataset_root_name = os.path.basename(os.path.normpath(dataset_path))\n",
        "project_dir = os.path.join(default_paths.WORK_DIR, dataset_root_name)\n",
        "\n",
        "# Set if the worm is lighter than the background in the image\n",
        "# in the sample data, the worm is darker so we set this variable to False\n",
        "worm_is_lighter = False\n",
        "\n",
        "# This function loads the dataset\n",
        "# optional fields: there is an optional resize parameter to resize the images\n",
        "# also you can select specific videos from the dataset instead of loading them all\n",
        "dataset = load_dataset(dataset_loader, dataset_path, worm_is_lighter=worm_is_lighter)"
      ]
    },
    {
      "cell_type": "markdown",
      "metadata": {
        "id": "iTW1q4rsIb7l"
      },
      "source": [
        "### Visualize the raw dataset images\n",
        "\n",
        "First, we simply display the first 100 frames of the first video the dataset. These are the raw dataset images."
      ]
    },
    {
      "cell_type": "code",
      "execution_count": 5,
      "metadata": {
        "colab": {
          "base_uri": "https://localhost:8080/",
          "height": 100,
          "referenced_widgets": [
            "6ed34c1e202c46e4a3da2e21b4f06b7b",
            "9d0469b42d424e629d8fa13d70a1e98d",
            "46277ed539544002a662a0f45fe29905",
            "c9481de2428f4de497da0fa2b7918aed",
            "43ebdffa196c49acb42545c0b75ca214",
            "27493a092c05436a8dec5fc227a58b1a",
            "298dae457daa4e5a84e1ae0362198c18"
          ]
        },
        "id": "_OjvUKABIb7l",
        "outputId": "e0a4b95b-3f42-44ad-ddde-4e2e23b8ebe5"
      },
      "outputs": [
        {
          "output_type": "display_data",
          "data": {
            "text/plain": [
              "interactive(children=(IntSlider(value=0, description='index', max=99), Output()), _dom_classes=('widget-intera…"
            ],
            "application/vnd.jupyter.widget-view+json": {
              "version_major": 2,
              "version_minor": 0,
              "model_id": "6ed34c1e202c46e4a3da2e21b4f06b7b"
            }
          },
          "metadata": {}
        }
      ],
      "source": [
        "from ipython_utils import ImagesViewer\n",
        "\n",
        "MAX_FRAMES = 100\n",
        "img_viewer = ImagesViewer()\n",
        "\n",
        "video_name = dataset.video_names[0]\n",
        "with dataset.frames_dataset.open(video_name) as frames:\n",
        "    for frame in frames[:MAX_FRAMES]:\n",
        "        img_viewer.add_image(frame)\n",
        "\n",
        "img_viewer.view_as_slider()"
      ]
    },
    {
      "cell_type": "markdown",
      "metadata": {
        "id": "XbukC1ufIb7l"
      },
      "source": [
        "### Visualize the synthetic images\n",
        "\n",
        "The postures model generates worm postures, that we can use to draw a synthetic image representing that posture.\n",
        "You can run the cell below to visualize a small sample of such generated images."
      ]
    },
    {
      "cell_type": "code",
      "execution_count": 7,
      "metadata": {
        "colab": {
          "base_uri": "https://localhost:8080/",
          "height": 654,
          "referenced_widgets": [
            "d9698db8a4b24cd8a5ec7d6e66799caa",
            "94a6d9394cd141f4b82779ec4a511b34",
            "017fe88419cf43b5b8bedaae45c3b81e",
            "b9402047c1564ec485da6a7603dc56dd",
            "eacc2670a86b41eb8d82ae0aad43e76e",
            "a935157475c54d07a5f2e9d2bb53a9b0",
            "e4546f5e2bf74c7fb2d45f66aa096682"
          ]
        },
        "id": "x4TPNYjfIb7l",
        "outputId": "698b932a-cb75-4948-c503-d88d737fe83c"
      },
      "outputs": [
        {
          "output_type": "stream",
          "name": "stdout",
          "text": [
            "Viewing 50 synthetic images.\n"
          ]
        },
        {
          "output_type": "display_data",
          "data": {
            "text/plain": [
              "<Figure size 640x480 with 0 Axes>"
            ]
          },
          "metadata": {}
        },
        {
          "output_type": "display_data",
          "data": {
            "text/plain": [
              "interactive(children=(IntSlider(value=0, description='index', max=49), Output()), _dom_classes=('widget-intera…"
            ],
            "application/vnd.jupyter.widget-view+json": {
              "version_major": 2,
              "version_minor": 0,
              "model_id": "d9698db8a4b24cd8a5ec7d6e66799caa"
            }
          },
          "metadata": {}
        }
      ],
      "source": [
        "%matplotlib inline\n",
        "import numpy as np\n",
        "if not hasattr(np, \"float\"):\n",
        "  np.float = float\n",
        "\n",
        "if not hasattr(np, \"int\"):\n",
        "  np.int = int\n",
        "import matplotlib.pyplot as plt\n",
        "import tempfile\n",
        "from wormpose.demo.synthetic_simple_visualizer import SyntheticSimpleVisualizer\n",
        "from ipython_utils import ImagesViewer, display_as_slider\n",
        "\n",
        "synth_viz = SyntheticSimpleVisualizer(dataset_loader,\n",
        "                                      dataset_path,\n",
        "                                      worm_is_lighter=worm_is_lighter).generate()\n",
        "img_viewer, img_viewer_plot = ImagesViewer(), ImagesViewer()\n",
        "num_images = 50\n",
        "\n",
        "print(f\"Viewing {num_images} synthetic images.\")\n",
        "tempdir = tempfile.gettempdir()\n",
        "for i in range(num_images):\n",
        "\n",
        "    synth_image, theta = next(synth_viz)\n",
        "\n",
        "    plt.plot(theta)\n",
        "    plt.ylabel(\"theta (rad)\")\n",
        "    plt.xlabel(\"body segment\")\n",
        "    plot_path = os.path.join(tempdir, f\"theta_{i}.png\")\n",
        "    plt.savefig(plot_path)\n",
        "    plt.clf()\n",
        "    img_viewer_plot.add_image_filename(plot_path)\n",
        "\n",
        "    img_viewer.add_image(synth_image)\n",
        "\n",
        "display_as_slider(img_viewer, img_viewer_plot)"
      ]
    },
    {
      "cell_type": "markdown",
      "metadata": {
        "id": "8pt8YxAVIb7l"
      },
      "source": [
        "### Visualize the frame preprocessing\n",
        "\n",
        "You can run the cell below to visualize a sample of the real images after they have been processed : they are cropped (or extended) to the same size which corresponds to the average worm length, and the background and non worm objects pixels are set to a uniform color. In that way, they become visually similar to the synthetic images."
      ]
    },
    {
      "cell_type": "code",
      "execution_count": 8,
      "metadata": {
        "colab": {
          "base_uri": "https://localhost:8080/",
          "height": 235,
          "referenced_widgets": [
            "ed575d1892b640aa93ec6be8946cd612",
            "36f3d738fe1a4dc385f60d60429655c1",
            "c459b1b5db5c4e4394f887de46b55e78",
            "9a2d8c7a52c848ab976213e8f9166f57",
            "d11e682c5bb7471fa742c32da4c98774",
            "da93044eabab49c7804ebb99f5be860c",
            "68eee4e32a664e709c77447a66f1cb54"
          ]
        },
        "id": "YnKx2HITIb7m",
        "outputId": "cfb7b6d4-db1b-43ad-a3bd-1878929311b9"
      },
      "outputs": [
        {
          "output_type": "stream",
          "name": "stdout",
          "text": [
            "Displaying the first 100 frames : original and processed.\n"
          ]
        },
        {
          "output_type": "display_data",
          "data": {
            "text/plain": [
              "interactive(children=(IntSlider(value=0, description='index', max=99), Output()), _dom_classes=('widget-intera…"
            ],
            "application/vnd.jupyter.widget-view+json": {
              "version_major": 2,
              "version_minor": 0,
              "model_id": "ed575d1892b640aa93ec6be8946cd612"
            }
          },
          "metadata": {}
        },
        {
          "output_type": "stream",
          "name": "stdout",
          "text": [
            "The processed images are all set to the size: (90px, 90px).\n"
          ]
        }
      ],
      "source": [
        "from wormpose.demo.real_simple_visualizer import RealSimpleVisualizer\n",
        "from ipython_utils import ImagesViewer, display_as_slider\n",
        "\n",
        "viz = RealSimpleVisualizer(dataset_loader,\n",
        "                           dataset_path,\n",
        "                           worm_is_lighter=worm_is_lighter).generate()\n",
        "orig_img_viewer, processed_img_viewer = ImagesViewer(), ImagesViewer()\n",
        "\n",
        "max_viz = 100\n",
        "print(f\"Displaying the first {max_viz} frames : original and processed.\")\n",
        "\n",
        "for _ in range(max_viz):\n",
        "    orig_image, processed_image = next(viz)\n",
        "    orig_img_viewer.add_image(orig_image)\n",
        "    processed_img_viewer.add_image(processed_image)\n",
        "\n",
        "display_as_slider(orig_img_viewer, processed_img_viewer)\n",
        "\n",
        "print(f\"The processed images are all set to the size: ({processed_image.shape[0]}px, {processed_image.shape[1]}px).\")"
      ]
    },
    {
      "cell_type": "markdown",
      "metadata": {
        "id": "O3IY8JHwIb7m"
      },
      "source": [
        "## Calibration\n",
        "\n",
        "We use a pixel comparison function to compare a real labelled image to its reconstruction as a synthetic image, which assigns a score between 0 (worse) and 1 (perfect reconstruction).\n",
        "This function will be used to evaluate the predictions by comparing them to the original image, and filtering bad results with a threshold.\n",
        "\n",
        "To decide on which threshold to use, we can evaluate this image score function on real labelled images from the dataset. The resulting distribution of scores should be close to 1 if the features are correct. We can visualize the real and the synthetic image that was used for the scoring. Here for example we display 5 examples that represent the range of results from worst to best."
      ]
    },
    {
      "cell_type": "code",
      "source": [
        "!pip install nbstripout"
      ],
      "metadata": {
        "colab": {
          "base_uri": "https://localhost:8080/"
        },
        "id": "v8R3OBxgbVM1",
        "outputId": "727cee44-e46c-416b-f3f4-7fe40b6d80d4"
      },
      "execution_count": 13,
      "outputs": [
        {
          "output_type": "stream",
          "name": "stdout",
          "text": [
            "Collecting nbstripout\n",
            "  Downloading nbstripout-0.8.1-py2.py3-none-any.whl.metadata (19 kB)\n",
            "Requirement already satisfied: nbformat in /usr/local/lib/python3.12/dist-packages (from nbstripout) (5.10.4)\n",
            "Requirement already satisfied: fastjsonschema>=2.15 in /usr/local/lib/python3.12/dist-packages (from nbformat->nbstripout) (2.21.2)\n",
            "Requirement already satisfied: jsonschema>=2.6 in /usr/local/lib/python3.12/dist-packages (from nbformat->nbstripout) (4.25.1)\n",
            "Requirement already satisfied: jupyter-core!=5.0.*,>=4.12 in /usr/local/lib/python3.12/dist-packages (from nbformat->nbstripout) (5.8.1)\n",
            "Requirement already satisfied: traitlets>=5.1 in /usr/local/lib/python3.12/dist-packages (from nbformat->nbstripout) (5.7.1)\n",
            "Requirement already satisfied: attrs>=22.2.0 in /usr/local/lib/python3.12/dist-packages (from jsonschema>=2.6->nbformat->nbstripout) (25.3.0)\n",
            "Requirement already satisfied: jsonschema-specifications>=2023.03.6 in /usr/local/lib/python3.12/dist-packages (from jsonschema>=2.6->nbformat->nbstripout) (2025.9.1)\n",
            "Requirement already satisfied: referencing>=0.28.4 in /usr/local/lib/python3.12/dist-packages (from jsonschema>=2.6->nbformat->nbstripout) (0.36.2)\n",
            "Requirement already satisfied: rpds-py>=0.7.1 in /usr/local/lib/python3.12/dist-packages (from jsonschema>=2.6->nbformat->nbstripout) (0.27.1)\n",
            "Requirement already satisfied: platformdirs>=2.5 in /usr/local/lib/python3.12/dist-packages (from jupyter-core!=5.0.*,>=4.12->nbformat->nbstripout) (4.4.0)\n",
            "Requirement already satisfied: typing-extensions>=4.4.0 in /usr/local/lib/python3.12/dist-packages (from referencing>=0.28.4->jsonschema>=2.6->nbformat->nbstripout) (4.15.0)\n",
            "Downloading nbstripout-0.8.1-py2.py3-none-any.whl (16 kB)\n",
            "Installing collected packages: nbstripout\n",
            "Successfully installed nbstripout-0.8.1\n"
          ]
        }
      ]
    },
    {
      "cell_type": "code",
      "source": [
        "!nbstripout tutorial_sample_data.ipynb"
      ],
      "metadata": {
        "id": "v_BrhL8EbXr7"
      },
      "execution_count": 18,
      "outputs": []
    },
    {
      "cell_type": "code",
      "execution_count": 9,
      "metadata": {
        "colab": {
          "base_uri": "https://localhost:8080/",
          "height": 1000
        },
        "id": "JP-QDXsXIb7m",
        "outputId": "726abf8a-121d-4172-cf59-3ad487458964"
      },
      "outputs": [
        {
          "output_type": "stream",
          "name": "stderr",
          "text": [
            "INFO:wormpose.commands.calibrate_dataset:\n",
            "\tdataset_loader: sample_data, \n",
            "\tdataset_path: wormpose_data/datasets/sample_data\n",
            "INFO:wormpose.commands.calibrate_dataset:\n",
            "\tworm_is_lighter: False, \n",
            "\tsave_images: True, \n",
            "\tnum_samples: 500, \n",
            "\twork_dir: experiments, \n",
            "\ttheta_dims: 100, \n",
            "\tvideo_names: None, \n",
            "\trandom_seed: None, \n",
            "\tresize_options: <wormpose.dataset.loaders.resizer.ResizeOptions object at 0x7f683998e060>\n",
            "INFO:wormpose.commands.calibrate_dataset:Evaluated known skeletons reconstruction for sample_data, average score 0.9716\n"
          ]
        },
        {
          "output_type": "display_data",
          "data": {
            "text/plain": [
              "<Figure size 640x480 with 1 Axes>"
            ],
            "image/png": "[encoded data removed]"
          },
          "metadata": {}
        },
        {
          "output_type": "stream",
          "name": "stdout",
          "text": [
            "0.9053075313568115\n"
          ]
        },
        {
          "output_type": "display_data",
          "data": {
            "image/png": "[encoded data removed]",
            "text/plain": [
              "<IPython.core.display.Image object>"
            ]
          },
          "metadata": {}
        },
        {
          "output_type": "stream",
          "name": "stdout",
          "text": [
            "0.961417555809021\n"
          ]
        },
        {
          "output_type": "display_data",
          "data": {
            "image/png": "[encoded data removed]",
            "text/plain": [
              "<IPython.core.display.Image object>"
            ]
          },
          "metadata": {}
        },
        {
          "output_type": "stream",
          "name": "stdout",
          "text": [
            "0.9733497500419617\n"
          ]
        },
        {
          "output_type": "display_data",
          "data": {
            "image/png": "[encoded data removed]",
            "text/plain": [
              "<IPython.core.display.Image object>"
            ]
          },
          "metadata": {}
        },
        {
          "output_type": "stream",
          "name": "stdout",
          "text": [
            "0.9787611961364746\n"
          ]
        },
        {
          "output_type": "display_data",
          "data": {
            "image/png": "[encoded data removed]",
            "text/plain": [
              "<IPython.core.display.Image object>"
            ]
          },
          "metadata": {}
        },
        {
          "output_type": "stream",
          "name": "stdout",
          "text": [
            "0.9940060973167419\n"
          ]
        },
        {
          "output_type": "display_data",
          "data": {
            "image/png": "[encoded data removed]",
            "text/plain": [
              "<IPython.core.display.Image object>"
            ]
          },
          "metadata": {}
        }
      ],
      "source": [
        "import numpy as np\n",
        "import h5py\n",
        "import matplotlib.pyplot as plt\n",
        "from wormpose.commands import calibrate\n",
        "from ipython_utils import ImagesViewer\n",
        "\n",
        "video_name, result_file = next(calibrate(dataset_loader,\n",
        "                                         dataset_path,\n",
        "                                         worm_is_lighter=worm_is_lighter,\n",
        "                                         save_images=True))\n",
        "\n",
        "VIEW_SCORES = 5\n",
        "\n",
        "img_viewer = ImagesViewer()\n",
        "with h5py.File(result_file, \"r\") as f:\n",
        "    scores = f['scores'][()]\n",
        "    real_images = f['real_images']\n",
        "    synthetic_images = f['synth_images']\n",
        "\n",
        "    plt.hist(scores, bins=np.arange(0.5, 1, 0.01),\n",
        "             weights=np.ones_like(scores)/len(scores))\n",
        "    plt.xlabel(\"image similarity\")\n",
        "    plt.title(f\"Distribution of image scores for known frames\\n (video: {video_name})\")\n",
        "    plt.show()\n",
        "\n",
        "    sorted_scores = np.argsort(scores)\n",
        "    step = int(len(sorted_scores)/VIEW_SCORES)\n",
        "    sorted_selection_index = [sorted_scores[0]] + sorted_scores[step:-step:step].tolist() + [sorted_scores[-1]]\n",
        "\n",
        "    for index in sorted_selection_index:\n",
        "        im = np.hstack([real_images[index], synthetic_images[index]])\n",
        "        img_viewer.add_image(im)\n",
        "\n",
        "img_viewer.view_as_list(legends=scores[sorted_selection_index])"
      ]
    },
    {
      "cell_type": "markdown",
      "metadata": {
        "id": "1ljpiPLAIb7m"
      },
      "source": [
        "## Build the training and evaluation dataset\n",
        "We now build the training dataset which contain images such as above, saved as a binary file \".tfrecord\". We also build an evaluation dataset.\n",
        "\n",
        "We create a small training set of 1000 images for this tutorial. For a more representative training set, increase the value of num_train_samples (the default value is 500k), but the generation will take more time."
      ]
    },
    {
      "cell_type": "code",
      "execution_count": 12,
      "metadata": {
        "colab": {
          "base_uri": "https://localhost:8080/",
          "height": 1000,
          "referenced_widgets": [
            "006a50a9ad364106a967baf5aeb5bcdb",
            "28b93909a545486c85a14cfb6413f37c",
            "c1be46a1067b47eea159e5ae47d50235"
          ]
        },
        "id": "KFy7RMP8Ib7m",
        "outputId": "d8d93179-e309-410d-b478-a91435c996f3"
      },
      "outputs": [
        {
          "output_type": "display_data",
          "data": {
            "text/plain": [
              "FloatProgress(value=0.0, max=1.0)"
            ],
            "application/vnd.jupyter.widget-view+json": {
              "version_major": 2,
              "version_minor": 0,
              "model_id": "006a50a9ad364106a967baf5aeb5bcdb"
            }
          },
          "metadata": {}
        },
        {
          "output_type": "stream",
          "name": "stderr",
          "text": [
            "INFO:wormpose.commands.generate_training_data:\n",
            "\tdataset_loader: sample_data, \n",
            "\tdataset_path: wormpose_data/datasets/sample_data\n",
            "INFO:wormpose.commands.generate_training_data:\n",
            "\tworm_is_lighter: False, \n",
            "\tnum_train_samples: 100, \n",
            "\tnum_process: 2, \n",
            "\ttemp_dir: /tmp/tmpx655wa2a, \n",
            "\tnum_eval_samples: 10000, \n",
            "\twork_dir: experiments, \n",
            "\tpostures_generation: <bound method PosturesModel.generate of <wormpose.pose.postures_model.PosturesModel object at 0x7f6839fe38f0>>, \n",
            "\tvideo_names: None, \n",
            "\trandom_seed: None, \n",
            "\tresize_options: <wormpose.dataset.loaders.resizer.ResizeOptions object at 0x7f68399ffe30>\n"
          ]
        },
        {
          "output_type": "stream",
          "name": "stdout",
          "text": [
            "0.0\n",
            "0.0\n",
            "0.0\n",
            "0.0\n",
            "0.0\n",
            "0.0\n",
            "0.0\n",
            "0.0\n",
            "0.0\n",
            "0.0\n",
            "0.0\n",
            "0.0\n",
            "0.0\n",
            "0.0\n",
            "0.0\n",
            "0.0\n",
            "0.0\n",
            "0.0\n",
            "0.0\n",
            "0.0\n",
            "0.0\n",
            "0.0\n",
            "0.0\n",
            "0.0\n",
            "0.0\n",
            "0.0\n",
            "0.0\n",
            "0.0\n",
            "0.0\n",
            "0.0\n",
            "0.0\n",
            "0.0\n",
            "0.0\n",
            "0.0\n",
            "0.0\n",
            "0.0\n",
            "0.0\n",
            "0.0\n",
            "0.0\n",
            "0.0\n",
            "0.0\n",
            "0.0\n",
            "0.0\n",
            "0.0\n",
            "0.0\n",
            "0.0\n",
            "0.0\n",
            "0.0\n",
            "0.0\n",
            "0.0\n",
            "0.0\n",
            "0.0\n",
            "0.0\n",
            "0.0\n",
            "0.0\n",
            "0.0\n",
            "0.0\n",
            "0.0\n",
            "0.0\n",
            "0.0\n",
            "0.0\n",
            "0.0\n",
            "0.0\n",
            "0.0\n",
            "0.0\n",
            "0.0\n",
            "0.0\n",
            "0.0\n",
            "0.0\n"
          ]
        },
        {
          "output_type": "error",
          "ename": "KeyboardInterrupt",
          "evalue": "",
          "traceback": [
            "\u001b[0;31m---------------------------------------------------------------------------\u001b[0m",
            "\u001b[0;31mKeyboardInterrupt\u001b[0m                         Traceback (most recent call last)",
            "\u001b[0;32m/tmp/ipython-input-667065199.py\u001b[0m in \u001b[0;36m<cell line: 0>\u001b[0;34m()\u001b[0m\n\u001b[1;32m     10\u001b[0m                         \u001b[0mworm_is_lighter\u001b[0m\u001b[0;34m=\u001b[0m\u001b[0mworm_is_lighter\u001b[0m\u001b[0;34m,\u001b[0m\u001b[0;34m\u001b[0m\u001b[0;34m\u001b[0m\u001b[0m\n\u001b[1;32m     11\u001b[0m                         num_train_samples=100)\n\u001b[0;32m---> 12\u001b[0;31m \u001b[0;32mfor\u001b[0m \u001b[0mprogress_value\u001b[0m \u001b[0;32min\u001b[0m \u001b[0mgen_progress\u001b[0m\u001b[0;34m:\u001b[0m\u001b[0;34m\u001b[0m\u001b[0;34m\u001b[0m\u001b[0m\n\u001b[0m\u001b[1;32m     13\u001b[0m     \u001b[0mprint\u001b[0m\u001b[0;34m(\u001b[0m\u001b[0mprogress_value\u001b[0m\u001b[0;34m)\u001b[0m\u001b[0;34m\u001b[0m\u001b[0;34m\u001b[0m\u001b[0m\n\u001b[1;32m     14\u001b[0m     \u001b[0mfp\u001b[0m\u001b[0;34m.\u001b[0m\u001b[0mvalue\u001b[0m \u001b[0;34m=\u001b[0m \u001b[0mprogress_value\u001b[0m\u001b[0;34m\u001b[0m\u001b[0;34m\u001b[0m\u001b[0m\n",
            "\u001b[0;32m/usr/local/lib/python3.12/dist-packages/wormpose/commands/generate_training_data.py\u001b[0m in \u001b[0;36mgenerate\u001b[0;34m(dataset_loader, dataset_path, **kwargs)\u001b[0m\n\u001b[1;32m    114\u001b[0m         \u001b[0mfile_pattern\u001b[0m\u001b[0;34m=\u001b[0m\u001b[0mos\u001b[0m\u001b[0;34m.\u001b[0m\u001b[0mpath\u001b[0m\u001b[0;34m.\u001b[0m\u001b[0mjoin\u001b[0m\u001b[0;34m(\u001b[0m\u001b[0margs\u001b[0m\u001b[0;34m.\u001b[0m\u001b[0mtemp_dir\u001b[0m\u001b[0;34m,\u001b[0m \u001b[0mSYNTH_TRAIN_DATASET_NAMES\u001b[0m\u001b[0;34m)\u001b[0m\u001b[0;34m,\u001b[0m\u001b[0;34m\u001b[0m\u001b[0;34m\u001b[0m\u001b[0m\n\u001b[1;32m    115\u001b[0m     )\n\u001b[0;32m--> 116\u001b[0;31m     \u001b[0;32mfor\u001b[0m \u001b[0mprogress\u001b[0m \u001b[0;32min\u001b[0m \u001b[0mgen\u001b[0m\u001b[0;34m:\u001b[0m\u001b[0;34m\u001b[0m\u001b[0;34m\u001b[0m\u001b[0m\n\u001b[0m\u001b[1;32m    117\u001b[0m         \u001b[0;32myield\u001b[0m \u001b[0mprogress\u001b[0m\u001b[0;34m\u001b[0m\u001b[0;34m\u001b[0m\u001b[0m\n\u001b[1;32m    118\u001b[0m     \u001b[0;32myield\u001b[0m \u001b[0;36m1.0\u001b[0m\u001b[0;34m\u001b[0m\u001b[0;34m\u001b[0m\u001b[0m\n",
            "\u001b[0;32m/usr/local/lib/python3.12/dist-packages/wormpose/machine_learning/synthetic_data_generator.py\u001b[0m in \u001b[0;36mgenerate\u001b[0;34m(self, file_pattern, num_samples)\u001b[0m\n\u001b[1;32m    256\u001b[0m             \u001b[0;32mif\u001b[0m \u001b[0mnum_entries_written\u001b[0m \u001b[0;34m>=\u001b[0m \u001b[0mnum_samples\u001b[0m\u001b[0;34m:\u001b[0m\u001b[0;34m\u001b[0m\u001b[0;34m\u001b[0m\u001b[0m\n\u001b[1;32m    257\u001b[0m                 \u001b[0;32mbreak\u001b[0m\u001b[0;34m\u001b[0m\u001b[0;34m\u001b[0m\u001b[0m\n\u001b[0;32m--> 258\u001b[0;31m             \u001b[0mtime\u001b[0m\u001b[0;34m.\u001b[0m\u001b[0msleep\u001b[0m\u001b[0;34m(\u001b[0m\u001b[0;36m0.5\u001b[0m\u001b[0;34m)\u001b[0m\u001b[0;34m\u001b[0m\u001b[0;34m\u001b[0m\u001b[0m\n\u001b[0m\u001b[1;32m    259\u001b[0m \u001b[0;34m\u001b[0m\u001b[0m\n\u001b[1;32m    260\u001b[0m         \u001b[0;32mfor\u001b[0m \u001b[0mproc\u001b[0m \u001b[0;32min\u001b[0m \u001b[0mworkers\u001b[0m\u001b[0;34m:\u001b[0m\u001b[0;34m\u001b[0m\u001b[0;34m\u001b[0m\u001b[0m\n",
            "\u001b[0;31mKeyboardInterrupt\u001b[0m: "
          ]
        }
      ],
      "source": [
        "from wormpose.commands import generate\n",
        "from ipywidgets import FloatProgress\n",
        "from IPython.display import display\n",
        "\n",
        "fp = FloatProgress(min=0., max=1.)\n",
        "display(fp)\n",
        "\n",
        "gen_progress = generate(dataset_loader,\n",
        "                        dataset_path,\n",
        "                        worm_is_lighter=worm_is_lighter,\n",
        "                        num_train_samples=100)\n",
        "for progress_value in gen_progress:\n",
        "    print(progress_value)\n",
        "    fp.value = progress_value"
      ]
    },
    {
      "cell_type": "markdown",
      "metadata": {
        "id": "q9HGAVngIb7m"
      },
      "source": [
        "## Check generated tfrecord files\n",
        "\n",
        "We check that the tfrecord files have been generated successfully by viewing the first few images."
      ]
    },
    {
      "cell_type": "code",
      "execution_count": null,
      "metadata": {
        "id": "MH1MswyrIb7m"
      },
      "outputs": [],
      "source": [
        "from glob import glob\n",
        "import os\n",
        "from wormpose.config import default_paths\n",
        "from wormpose.machine_learning import tfrecord_file\n",
        "from ipython_utils import ImagesViewer\n",
        "\n",
        "\n",
        "def view_tfrecord(filename, theta_dims=100, max_viz=100):\n",
        "    img_viewer = ImagesViewer()\n",
        "    for index, record in enumerate(tfrecord_file.read(filename, theta_dims)):\n",
        "        if index >= max_viz:\n",
        "            break\n",
        "        image_data = record[0].numpy()\n",
        "        img_viewer.add_image(image_data)\n",
        "    print(f\"Reading: \\'{filename}\\' ({index} first frames)\")\n",
        "\n",
        "    img_viewer.view_as_slider()\n",
        "\n",
        "train_records = list(sorted(glob(os.path.join(project_dir,\n",
        "                                              default_paths.TRAINING_DATA_DIR,\n",
        "                                              default_paths.SYNTH_TRAIN_DATASET_NAMES.format(index='*')))))\n",
        "print(f\"Training tfrecord files: {len(train_records)} files.\")\n",
        "if len(train_records) > 0 :\n",
        "    view_tfrecord(train_records[0])\n",
        "eval_record = list(glob(os.path.join(project_dir,\n",
        "                                     default_paths.TRAINING_DATA_DIR,\n",
        "                                     default_paths.REAL_EVAL_DATASET_NAMES.format(index='*'))))\n",
        "if len(eval_record) > 0 :\n",
        "    view_tfrecord(eval_record[0])"
      ]
    },
    {
      "cell_type": "markdown",
      "metadata": {
        "id": "aTFH1lqoIb7m"
      },
      "source": [
        "## Train\n",
        "\n",
        "We train the network on the generated data.\n",
        "\n",
        "We only train on 10 epochs for this tutorial, increase the number of epochs for better results."
      ]
    },
    {
      "cell_type": "code",
      "execution_count": null,
      "metadata": {
        "id": "NY7Ku-s3Ib7n"
      },
      "outputs": [],
      "source": [
        "import tensorflow as tf\n",
        "from wormpose.commands import train\n",
        "\n",
        "if tf.test.gpu_device_name() == '':\n",
        "    print(\"Warning, no GPU available for training, this will be very slow.\")\n",
        "\n",
        "train(dataset_path, epochs=10)"
      ]
    },
    {
      "cell_type": "markdown",
      "metadata": {
        "id": "tELHYBohIb7n"
      },
      "source": [
        "## Predict\n",
        "\n",
        "We can now predict the full video. We use a score threshold of 0.7 to discard wrong results (see calibration to choose the value of the threshold)."
      ]
    },
    {
      "cell_type": "code",
      "execution_count": null,
      "metadata": {
        "id": "7i0AUBvpIb7n"
      },
      "outputs": [],
      "source": [
        "from wormpose.commands import predict\n",
        "\n",
        "use_pretrained_network = True\n",
        "if use_pretrained_network: # already trained model for \"sample_data\" only\n",
        "    model_path = os.path.join('wormpose_data', 'models', 'sample_data', 'trained_model.hdf5')\n",
        "else: # will use the default path for the model that was trained in the previous cell\n",
        "    model_path = None\n",
        "\n",
        "predict(dataset_path=dataset_path,\n",
        "        score_threshold=0.7,\n",
        "        model_path=model_path)"
      ]
    },
    {
      "cell_type": "markdown",
      "metadata": {
        "id": "Ijp54rrMIb7n"
      },
      "source": [
        "We visualize the result by drawing the posture skeleton on top of the original image."
      ]
    },
    {
      "cell_type": "code",
      "execution_count": null,
      "metadata": {
        "id": "SALxxxxpIb7n"
      },
      "outputs": [],
      "source": [
        "from wormpose.commands import visualize\n",
        "\n",
        "visualize(dataset_path, draw_original=False)\n",
        "!find -name 'images_results.zip' -exec sh -c 'unzip -o -d \"${1%.*}\" \"$1\"' _ {} \\;  > /dev/null"
      ]
    },
    {
      "cell_type": "code",
      "execution_count": null,
      "metadata": {
        "id": "77j_hXr3Ib7n"
      },
      "outputs": [],
      "source": [
        "import os, glob\n",
        "from wormpose.config import default_paths\n",
        "from ipython_utils import ImagesViewer\n",
        "\n",
        "MAX_FRAMES = 1000\n",
        "\n",
        "img_filenames = sorted(glob.glob(os.path.join(project_dir, default_paths.RESULTS_DIR, '*','*','*.png')))[:MAX_FRAMES]\n",
        "img_viewer = ImagesViewer()\n",
        "for filename in img_filenames:\n",
        "    img_viewer.add_image_filename(filename)\n",
        "\n",
        "img_viewer.view_as_list(legends=range(len(img_filenames)))"
      ]
    },
    {
      "cell_type": "code",
      "source": [
        "import nbformat, json\n",
        "\n",
        "# Replace with the actual filename if Colab saved differently\n",
        "path = \"tutorial_sample_data.ipynb\"\n",
        "\n",
        "# Load the notebook\n",
        "with open(path) as f:\n",
        "    nb = nbformat.read(f, as_version=4)\n",
        "\n",
        "# Clean broken widget metadata\n",
        "if \"widgets\" in nb[\"metadata\"]:\n",
        "    print(\"Removing invalid widgets metadata\")\n",
        "    del nb[\"metadata\"][\"widgets\"]\n",
        "\n",
        "# Save cleaned notebook\n",
        "with open(path, \"w\") as f:\n",
        "    nbformat.write(nb, f)\n",
        "\n",
        "print(\"Notebook cleaned and saved:\", path)\n"
      ],
      "metadata": {
        "colab": {
          "base_uri": "https://localhost:8080/"
        },
        "id": "Llz5wt4tcPQq",
        "outputId": "aa3220dd-f37a-442f-9028-c7dbce5ac9ca"
      },
      "execution_count": 22,
      "outputs": [
        {
          "output_type": "stream",
          "name": "stdout",
          "text": [
            "Notebook cleaned and saved: tutorial_sample_data.ipynb\n"
          ]
        }
      ]
    },
    {
      "cell_type": "code",
      "source": [],
      "metadata": {
        "id": "sR8C0_orchCY"
      },
      "execution_count": null,
      "outputs": []
    }
  ],
  "metadata": {
    "kernelspec": {
      "display_name": "Python 3",
      "language": "python",
      "name": "python3"
    },
    "language_info": {
      "codemirror_mode": {
        "name": "ipython",
        "version": 3
      },
      "file_extension": ".py",
      "mimetype": "text/x-python",
      "name": "python",
      "nbconvert_exporter": "python",
      "pygments_lexer": "ipython3",
      "version": "3.8.6"
    },
    "colab": {
      "provenance": []
    },
    "widgets": {
      "application/vnd.jupyter.widget-state+json": {
        "6ed34c1e202c46e4a3da2e21b4f06b7b": {
          "model_module": "@jupyter-widgets/controls",
          "model_name": "VBoxModel",
          "model_module_version": "1.5.0",
          "state": {
            "_dom_classes": [
              "widget-interact"
            ],
            "_model_module": "@jupyter-widgets/controls",
            "_model_module_version": "1.5.0",
            "_model_name": "VBoxModel",
            "_view_count": null,
            "_view_module": "@jupyter-widgets/controls",
            "_view_module_version": "1.5.0",
            "_view_name": "VBoxView",
            "box_style": "",
            "children": [
              "IPY_MODEL_9d0469b42d424e629d8fa13d70a1e98d",
              "IPY_MODEL_46277ed539544002a662a0f45fe29905"
            ],
            "layout": "IPY_MODEL_c9481de2428f4de497da0fa2b7918aed"
          }
        },
        "9d0469b42d424e629d8fa13d70a1e98d": {
          "model_module": "@jupyter-widgets/controls",
          "model_name": "IntSliderModel",
          "model_module_version": "1.5.0",
          "state": {
            "_dom_classes": [],
            "_model_module": "@jupyter-widgets/controls",
            "_model_module_version": "1.5.0",
            "_model_name": "IntSliderModel",
            "_view_count": null,
            "_view_module": "@jupyter-widgets/controls",
            "_view_module_version": "1.5.0",
            "_view_name": "IntSliderView",
            "continuous_update": true,
            "description": "index",
            "description_tooltip": null,
            "disabled": false,
            "layout": "IPY_MODEL_43ebdffa196c49acb42545c0b75ca214",
            "max": 99,
            "min": 0,
            "orientation": "horizontal",
            "readout": true,
            "readout_format": "d",
            "step": 1,
            "style": "IPY_MODEL_27493a092c05436a8dec5fc227a58b1a",
            "value": 0
          }
        },
        "46277ed539544002a662a0f45fe29905": {
          "model_module": "@jupyter-widgets/output",
          "model_name": "OutputModel",
          "model_module_version": "1.0.0",
          "state": {
            "_dom_classes": [],
            "_model_module": "@jupyter-widgets/output",
            "_model_module_version": "1.0.0",
            "_model_name": "OutputModel",
            "_view_count": null,
            "_view_module": "@jupyter-widgets/output",
            "_view_module_version": "1.0.0",
            "_view_name": "OutputView",
            "layout": "IPY_MODEL_298dae457daa4e5a84e1ae0362198c18",
            "msg_id": "",
            "outputs": [
              {
                "output_type": "display_data",
                "data": {
                  "image/png": "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\n",
                  "text/plain": "<IPython.core.display.Image object>"
                },
                "metadata": {}
              }
            ]
          }
        },
        "c9481de2428f4de497da0fa2b7918aed": {
          "model_module": "@jupyter-widgets/base",
          "model_name": "LayoutModel",
          "model_module_version": "1.2.0",
          "state": {
            "_model_module": "@jupyter-widgets/base",
            "_model_module_version": "1.2.0",
            "_model_name": "LayoutModel",
            "_view_count": null,
            "_view_module": "@jupyter-widgets/base",
            "_view_module_version": "1.2.0",
            "_view_name": "LayoutView",
            "align_content": null,
            "align_items": null,
            "align_self": null,
            "border": null,
            "bottom": null,
            "display": null,
            "flex": null,
            "flex_flow": null,
            "grid_area": null,
            "grid_auto_columns": null,
            "grid_auto_flow": null,
            "grid_auto_rows": null,
            "grid_column": null,
            "grid_gap": null,
            "grid_row": null,
            "grid_template_areas": null,
            "grid_template_columns": null,
            "grid_template_rows": null,
            "height": null,
            "justify_content": null,
            "justify_items": null,
            "left": null,
            "margin": null,
            "max_height": null,
            "max_width": null,
            "min_height": null,
            "min_width": null,
            "object_fit": null,
            "object_position": null,
            "order": null,
            "overflow": null,
            "overflow_x": null,
            "overflow_y": null,
            "padding": null,
            "right": null,
            "top": null,
            "visibility": null,
            "width": null
          }
        },
        "43ebdffa196c49acb42545c0b75ca214": {
          "model_module": "@jupyter-widgets/base",
          "model_name": "LayoutModel",
          "model_module_version": "1.2.0",
          "state": {
            "_model_module": "@jupyter-widgets/base",
            "_model_module_version": "1.2.0",
            "_model_name": "LayoutModel",
            "_view_count": null,
            "_view_module": "@jupyter-widgets/base",
            "_view_module_version": "1.2.0",
            "_view_name": "LayoutView",
            "align_content": null,
            "align_items": null,
            "align_self": null,
            "border": null,
            "bottom": null,
            "display": null,
            "flex": null,
            "flex_flow": null,
            "grid_area": null,
            "grid_auto_columns": null,
            "grid_auto_flow": null,
            "grid_auto_rows": null,
            "grid_column": null,
            "grid_gap": null,
            "grid_row": null,
            "grid_template_areas": null,
            "grid_template_columns": null,
            "grid_template_rows": null,
            "height": null,
            "justify_content": null,
            "justify_items": null,
            "left": null,
            "margin": null,
            "max_height": null,
            "max_width": null,
            "min_height": null,
            "min_width": null,
            "object_fit": null,
            "object_position": null,
            "order": null,
            "overflow": null,
            "overflow_x": null,
            "overflow_y": null,
            "padding": null,
            "right": null,
            "top": null,
            "visibility": null,
            "width": null
          }
        },
        "27493a092c05436a8dec5fc227a58b1a": {
          "model_module": "@jupyter-widgets/controls",
          "model_name": "SliderStyleModel",
          "model_module_version": "1.5.0",
          "state": {
            "_model_module": "@jupyter-widgets/controls",
            "_model_module_version": "1.5.0",
            "_model_name": "SliderStyleModel",
            "_view_count": null,
            "_view_module": "@jupyter-widgets/base",
            "_view_module_version": "1.2.0",
            "_view_name": "StyleView",
            "description_width": "",
            "handle_color": null
          }
        },
        "298dae457daa4e5a84e1ae0362198c18": {
          "model_module": "@jupyter-widgets/base",
          "model_name": "LayoutModel",
          "model_module_version": "1.2.0",
          "state": {
            "_model_module": "@jupyter-widgets/base",
            "_model_module_version": "1.2.0",
            "_model_name": "LayoutModel",
            "_view_count": null,
            "_view_module": "@jupyter-widgets/base",
            "_view_module_version": "1.2.0",
            "_view_name": "LayoutView",
            "align_content": null,
            "align_items": null,
            "align_self": null,
            "border": null,
            "bottom": null,
            "display": null,
            "flex": null,
            "flex_flow": null,
            "grid_area": null,
            "grid_auto_columns": null,
            "grid_auto_flow": null,
            "grid_auto_rows": null,
            "grid_column": null,
            "grid_gap": null,
            "grid_row": null,
            "grid_template_areas": null,
            "grid_template_columns": null,
            "grid_template_rows": null,
            "height": null,
            "justify_content": null,
            "justify_items": null,
            "left": null,
            "margin": null,
            "max_height": null,
            "max_width": null,
            "min_height": null,
            "min_width": null,
            "object_fit": null,
            "object_position": null,
            "order": null,
            "overflow": null,
            "overflow_x": null,
            "overflow_y": null,
            "padding": null,
            "right": null,
            "top": null,
            "visibility": null,
            "width": null
          }
        },
        "d9698db8a4b24cd8a5ec7d6e66799caa": {
          "model_module": "@jupyter-widgets/controls",
          "model_name": "VBoxModel",
          "model_module_version": "1.5.0",
          "state": {
            "_dom_classes": [
              "widget-interact"
            ],
            "_model_module": "@jupyter-widgets/controls",
            "_model_module_version": "1.5.0",
            "_model_name": "VBoxModel",
            "_view_count": null,
            "_view_module": "@jupyter-widgets/controls",
            "_view_module_version": "1.5.0",
            "_view_name": "VBoxView",
            "box_style": "",
            "children": [
              "IPY_MODEL_94a6d9394cd141f4b82779ec4a511b34",
              "IPY_MODEL_017fe88419cf43b5b8bedaae45c3b81e"
            ],
            "layout": "IPY_MODEL_b9402047c1564ec485da6a7603dc56dd"
          }
        },
        "94a6d9394cd141f4b82779ec4a511b34": {
          "model_module": "@jupyter-widgets/controls",
          "model_name": "IntSliderModel",
          "model_module_version": "1.5.0",
          "state": {
            "_dom_classes": [],
            "_model_module": "@jupyter-widgets/controls",
            "_model_module_version": "1.5.0",
            "_model_name": "IntSliderModel",
            "_view_count": null,
            "_view_module": "@jupyter-widgets/controls",
            "_view_module_version": "1.5.0",
            "_view_name": "IntSliderView",
            "continuous_update": true,
            "description": "index",
            "description_tooltip": null,
            "disabled": false,
            "layout": "IPY_MODEL_eacc2670a86b41eb8d82ae0aad43e76e",
            "max": 49,
            "min": 0,
            "orientation": "horizontal",
            "readout": true,
            "readout_format": "d",
            "step": 1,
            "style": "IPY_MODEL_a935157475c54d07a5f2e9d2bb53a9b0",
            "value": 0
          }
        },
        "017fe88419cf43b5b8bedaae45c3b81e": {
          "model_module": "@jupyter-widgets/output",
          "model_name": "OutputModel",
          "model_module_version": "1.0.0",
          "state": {
            "_dom_classes": [],
            "_model_module": "@jupyter-widgets/output",
            "_model_module_version": "1.0.0",
            "_model_name": "OutputModel",
            "_view_count": null,
            "_view_module": "@jupyter-widgets/output",
            "_view_module_version": "1.0.0",
            "_view_name": "OutputView",
            "layout": "IPY_MODEL_e4546f5e2bf74c7fb2d45f66aa096682",
            "msg_id": "",
            "outputs": [
              {
                "output_type": "display_data",
                "data": {
                  "image/png": "iVBORw0KGgoAAAANSUhEUgAAAFoAAABaCAAAAAAdwx7eAAAD+0lEQVRYCbXBXW8URxqG4fupqu6ZHg+2sTFetMjASkSr/N73j+1JwkcEHOySgDGMPWP3THd1VazNQZSeIZIt1XXJKEVGKTJKkVGKjFJklCKjFBmlyChFRikySpFRioxSZJQioxQZpcgoRUYpMkqRUYqMUmSUIqMUGaXIKEVGKTJKkVGKjFJklCLjvrL4WzLuYyBD4lbN98i4h/U69xCV5SdNzW4y7ixv2i8LusHPAh2nk/qAXWTcVU5Xb0Hd4Gch95k8e3rADjLuKuflxbkUoCZ1HXj9cMA2Gd+VHGTEWNp035YxxJ6aJfgg/+8ZW2TsljIgMuD5CxFZL74Sezb5mj1Xe+ZnDWMydhq4lRNxQzUN/FXKucs3XU97fj34+cRT//OIMRm7pExaDzdpg1x6POf/2sitCPuZSMo5DenT8nwynygc/8MxImOXIV3ftFcE51DdPIHIpm37tCAeDv4hwdd1IKbU/np5MTlWaJ7sMSJjhzRcX33OkhMT1Uf7bp3b5eJi0zmQC4TnHHEIMaX27TcO69A83mdExracbr7+DxyJ2bR+OK16vvzafULOg3A5oefhQLNp7uKHzxxWITzdZ0TGlpzX5x8TdBBOjuo9xf6393GF8xXgMzmRfNOc+MPAxeJzeOCq6mzOiIwtQ9e+TgMRudNHjfex/fR+nQeq2uNRSpkhK8OzGX7xcTKdUocfGZMxltP61SoMcc3ekx/oGa4uzr+Q8ZMAkjwxRUSPyDgmR4l6/zljMsbSsPoPYhPrZy+hj8v1hy9IfuJwVFki9ykrkLjJuMm+7/TgXw1jMsZS++ETng0vX0Af29WrFThmTnrAbCDHdhhwQsgLUK5OnrFFxkhOV+8uHTG9nJ3Sx3b1agVODd49PnU16yG159cecMiJW9XJ44YtMkZyXL1dQeTl8ZS4Xr5ZghONDp/uVXJOWqc2vicNOAkHzclRwzYZI2m4eX0FA2cnDZvlmyXOJyb+8OlegyRE7nJ3kVarLBGm4XQ+ZQcZIyl3P32DAc6OF4uvm6ECQqhenEzw/CHHROy5TgPHYs5OMsZS98tveLq2ES04UPDVi4d7nj9FbmUlJ893yNiyef9f/KTdbITwWXhfv3g4C9yNjC3D1c9ryLnrcJ4k75qzo1ngjmRsSf3lmy5liZwiiao52z/w3JWMbWm9eNeCI8ecmTw6fDT13JmMHdJ68a7FkSPVfD5/1DjuTsYuqb+8XHU9tTsKD+ZB3IOMnXLq4w3Zezej4l5kfMcACUTgnmSUIqMUGaXIKEVGKTJKkVGKjFJklCKjFBmlyChFRikySpFRioxSZJQioxQZpcgoRUYpMkqRUYqMUmSUIqMUGaXIKEVGKb8D07fJckKU+KAAAAAASUVORK5CYII=\n",
                  "text/plain": "<IPython.core.display.Image object>"
                },
                "metadata": {}
              },
              {
                "output_type": "display_data",
                "data": {
                  "image/png": "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\n",
                  "text/plain": "<IPython.core.display.Image object>"
                },
                "metadata": {}
              }
            ]
          }
        },
        "b9402047c1564ec485da6a7603dc56dd": {
          "model_module": "@jupyter-widgets/base",
          "model_name": "LayoutModel",
          "model_module_version": "1.2.0",
          "state": {
            "_model_module": "@jupyter-widgets/base",
            "_model_module_version": "1.2.0",
            "_model_name": "LayoutModel",
            "_view_count": null,
            "_view_module": "@jupyter-widgets/base",
            "_view_module_version": "1.2.0",
            "_view_name": "LayoutView",
            "align_content": null,
            "align_items": null,
            "align_self": null,
            "border": null,
            "bottom": null,
            "display": null,
            "flex": null,
            "flex_flow": null,
            "grid_area": null,
            "grid_auto_columns": null,
            "grid_auto_flow": null,
            "grid_auto_rows": null,
            "grid_column": null,
            "grid_gap": null,
            "grid_row": null,
            "grid_template_areas": null,
            "grid_template_columns": null,
            "grid_template_rows": null,
            "height": null,
            "justify_content": null,
            "justify_items": null,
            "left": null,
            "margin": null,
            "max_height": null,
            "max_width": null,
            "min_height": null,
            "min_width": null,
            "object_fit": null,
            "object_position": null,
            "order": null,
            "overflow": null,
            "overflow_x": null,
            "overflow_y": null,
            "padding": null,
            "right": null,
            "top": null,
            "visibility": null,
            "width": null
          }
        },
        "eacc2670a86b41eb8d82ae0aad43e76e": {
          "model_module": "@jupyter-widgets/base",
          "model_name": "LayoutModel",
          "model_module_version": "1.2.0",
          "state": {
            "_model_module": "@jupyter-widgets/base",
            "_model_module_version": "1.2.0",
            "_model_name": "LayoutModel",
            "_view_count": null,
            "_view_module": "@jupyter-widgets/base",
            "_view_module_version": "1.2.0",
            "_view_name": "LayoutView",
            "align_content": null,
            "align_items": null,
            "align_self": null,
            "border": null,
            "bottom": null,
            "display": null,
            "flex": null,
            "flex_flow": null,
            "grid_area": null,
            "grid_auto_columns": null,
            "grid_auto_flow": null,
            "grid_auto_rows": null,
            "grid_column": null,
            "grid_gap": null,
            "grid_row": null,
            "grid_template_areas": null,
            "grid_template_columns": null,
            "grid_template_rows": null,
            "height": null,
            "justify_content": null,
            "justify_items": null,
            "left": null,
            "margin": null,
            "max_height": null,
            "max_width": null,
            "min_height": null,
            "min_width": null,
            "object_fit": null,
            "object_position": null,
            "order": null,
            "overflow": null,
            "overflow_x": null,
            "overflow_y": null,
            "padding": null,
            "right": null,
            "top": null,
            "visibility": null,
            "width": null
          }
        },
        "a935157475c54d07a5f2e9d2bb53a9b0": {
          "model_module": "@jupyter-widgets/controls",
          "model_name": "SliderStyleModel",
          "model_module_version": "1.5.0",
          "state": {
            "_model_module": "@jupyter-widgets/controls",
            "_model_module_version": "1.5.0",
            "_model_name": "SliderStyleModel",
            "_view_count": null,
            "_view_module": "@jupyter-widgets/base",
            "_view_module_version": "1.2.0",
            "_view_name": "StyleView",
            "description_width": "",
            "handle_color": null
          }
        },
        "e4546f5e2bf74c7fb2d45f66aa096682": {
          "model_module": "@jupyter-widgets/base",
          "model_name": "LayoutModel",
          "model_module_version": "1.2.0",
          "state": {
            "_model_module": "@jupyter-widgets/base",
            "_model_module_version": "1.2.0",
            "_model_name": "LayoutModel",
            "_view_count": null,
            "_view_module": "@jupyter-widgets/base",
            "_view_module_version": "1.2.0",
            "_view_name": "LayoutView",
            "align_content": null,
            "align_items": null,
            "align_self": null,
            "border": null,
            "bottom": null,
            "display": null,
            "flex": null,
            "flex_flow": null,
            "grid_area": null,
            "grid_auto_columns": null,
            "grid_auto_flow": null,
            "grid_auto_rows": null,
            "grid_column": null,
            "grid_gap": null,
            "grid_row": null,
            "grid_template_areas": null,
            "grid_template_columns": null,
            "grid_template_rows": null,
            "height": null,
            "justify_content": null,
            "justify_items": null,
            "left": null,
            "margin": null,
            "max_height": null,
            "max_width": null,
            "min_height": null,
            "min_width": null,
            "object_fit": null,
            "object_position": null,
            "order": null,
            "overflow": null,
            "overflow_x": null,
            "overflow_y": null,
            "padding": null,
            "right": null,
            "top": null,
            "visibility": null,
            "width": null
          }
        },
        "ed575d1892b640aa93ec6be8946cd612": {
          "model_module": "@jupyter-widgets/controls",
          "model_name": "VBoxModel",
          "model_module_version": "1.5.0",
          "state": {
            "_dom_classes": [
              "widget-interact"
            ],
            "_model_module": "@jupyter-widgets/controls",
            "_model_module_version": "1.5.0",
            "_model_name": "VBoxModel",
            "_view_count": null,
            "_view_module": "@jupyter-widgets/controls",
            "_view_module_version": "1.5.0",
            "_view_name": "VBoxView",
            "box_style": "",
            "children": [
              "IPY_MODEL_36f3d738fe1a4dc385f60d60429655c1",
              "IPY_MODEL_c459b1b5db5c4e4394f887de46b55e78"
            ],
            "layout": "IPY_MODEL_9a2d8c7a52c848ab976213e8f9166f57"
          }
        },
        "36f3d738fe1a4dc385f60d60429655c1": {
          "model_module": "@jupyter-widgets/controls",
          "model_name": "IntSliderModel",
          "model_module_version": "1.5.0",
          "state": {
            "_dom_classes": [],
            "_model_module": "@jupyter-widgets/controls",
            "_model_module_version": "1.5.0",
            "_model_name": "IntSliderModel",
            "_view_count": null,
            "_view_module": "@jupyter-widgets/controls",
            "_view_module_version": "1.5.0",
            "_view_name": "IntSliderView",
            "continuous_update": true,
            "description": "index",
            "description_tooltip": null,
            "disabled": false,
            "layout": "IPY_MODEL_d11e682c5bb7471fa742c32da4c98774",
            "max": 99,
            "min": 0,
            "orientation": "horizontal",
            "readout": true,
            "readout_format": "d",
            "step": 1,
            "style": "IPY_MODEL_da93044eabab49c7804ebb99f5be860c",
            "value": 91
          }
        },
        "c459b1b5db5c4e4394f887de46b55e78": {
          "model_module": "@jupyter-widgets/output",
          "model_name": "OutputModel",
          "model_module_version": "1.0.0",
          "state": {
            "_dom_classes": [],
            "_model_module": "@jupyter-widgets/output",
            "_model_module_version": "1.0.0",
            "_model_name": "OutputModel",
            "_view_count": null,
            "_view_module": "@jupyter-widgets/output",
            "_view_module_version": "1.0.0",
            "_view_name": "OutputView",
            "layout": "IPY_MODEL_68eee4e32a664e709c77447a66f1cb54",
            "msg_id": "",
            "outputs": [
              {
                "output_type": "display_data",
                "data": {
                  "image/png": "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\n",
                  "text/plain": "<IPython.core.display.Image object>"
                },
                "metadata": {}
              },
              {
                "output_type": "display_data",
                "data": {
                  "image/png": "iVBORw0KGgoAAAANSUhEUgAAAFoAAABaCAAAAAAdwx7eAAAEdElEQVRYCbXB2XIb1xUF0L3P7QkTQVAUTJGRJ8kuOw/52fN1rrIdxTIpRyLmqYc7OHlvNABW3bWoiIWKWKiIhYpYqIiFilioiIWKWKiIhYpYqIiFilioiIWKWKiIhYpYqIiFilioiIWKWKiIhYpYqLiYTxxxGhWXCcE5wouIT9GJiksEX1ZVUzui18+TJEEHKs4X6maz2O2cDcanxfhm0EeCo6g4m3XLL8s62EQ86APy67thmuIYKs4UuF497gIJcaGGAODk/mpgcAQVZ2q2T3MHCPYuWAfD1CZm8PVtmqIdFWfxfvE0pzFVXQVnEZCakDiawY+TgmhFxVmq3ceZDNy+OjS0AAUhN1aQPHw/SNCKijO4+vC0lOzQlBsPSmJ8qAN7dDbp//xVjlZUnGbN4tM642FTlWKK0ThPcFgvSiNwwu++uUIrKk5yWP257BfrVe3scHJzVRgYWy4+rVIEaaY/TdCKihMcq83jhgO73tbZ+GGc9ukldbb8/LsXL83oX6/QiooOIcA39fLzgSZdb5reV2/6Ji/wf2U9/wVwtnn982u0ouKoSuBtM1vt6yRFuWkG99NhmuN/KuNk9/gxwB1w989XaEXFEVtX1d7vD84F6029k+Lt1KRIaQM97fZpVXuWTfLttxO0ouKIma2Sxja0dncIzsr19DoVOl+zCrbebGrxLlRh8P7NAK2oOMJW85XPKm/tvq44vLtN2VSHqq6ddY0H6cQ7G+7ejwu0ouIYV80/bUTqqkE2nY7sdr2urZjKkyLG+UYa7/s/3OUpWlFxlK83s13pHEa3eb6fbw+pZZ7sfROMQQ3XsLr6x8PIEK2oOC746oBKxBT2y3IriUdADe+CBNSecMXb+0EmaEdFl1D7YJK6+jxzZI4mOF+5OnhjrHPZ6H46EoMjqDjFSvm4gAtEU9VBLFyTiA8yvL2Z5BlxDBWnuOa/j4kElOuq8YIEwlSS3niS9woaHEXFCaZa/FH2kmq9KsX00l5hcsmlJ3mSGUEHKk7ZfVxmyX67qov+dJgXeRAIRUyCblR0k+bThzyrt4swfHN9lQh7VuiFOImKbq76dT9yq3m4zq5G130jOBcVnaR5/r2f7meL4U1m0u8Kg7NR0W3/+GWMxRc7usrD5L4gzkZFJ7/6FYX/a9ubgqNp3sP5qOgizecPabad4+G1MeYqxQWo6OLdb89mOFuP3r1KjAguQUWXsPr3qo+5vf9mUOBCVHSQ+q//IG1m/ffTLMGFqOjgqg/rPKzK23djCi5ERYdq9Zz53QJfT4eCS1HRYfmc8bBc3L7Lc8GlqDiiMW65M/lh+Vx8P84NLkbFEe4wsz3vVrP0YXKNF6Cild9vD+g1h80ie3uTZ4LLUdHG7J49fbldh/7NNE8TvAAVbUL5tC/rUsyr26HJBC9BRRvvtqudSwZFkacGL0NFO9sAwaeJwUtREQsVsVARCxWxUBELFbFQEQsVsVARCxWxUBELFbFQEQsVsVARCxWxUBELFbFQEQsVsVARCxWxUBHL371vNicfx/oZAAAAAElFTkSuQmCC\n",
                  "text/plain": "<IPython.core.display.Image object>"
                },
                "metadata": {}
              }
            ]
          }
        },
        "9a2d8c7a52c848ab976213e8f9166f57": {
          "model_module": "@jupyter-widgets/base",
          "model_name": "LayoutModel",
          "model_module_version": "1.2.0",
          "state": {
            "_model_module": "@jupyter-widgets/base",
            "_model_module_version": "1.2.0",
            "_model_name": "LayoutModel",
            "_view_count": null,
            "_view_module": "@jupyter-widgets/base",
            "_view_module_version": "1.2.0",
            "_view_name": "LayoutView",
            "align_content": null,
            "align_items": null,
            "align_self": null,
            "border": null,
            "bottom": null,
            "display": null,
            "flex": null,
            "flex_flow": null,
            "grid_area": null,
            "grid_auto_columns": null,
            "grid_auto_flow": null,
            "grid_auto_rows": null,
            "grid_column": null,
            "grid_gap": null,
            "grid_row": null,
            "grid_template_areas": null,
            "grid_template_columns": null,
            "grid_template_rows": null,
            "height": null,
            "justify_content": null,
            "justify_items": null,
            "left": null,
            "margin": null,
            "max_height": null,
            "max_width": null,
            "min_height": null,
            "min_width": null,
            "object_fit": null,
            "object_position": null,
            "order": null,
            "overflow": null,
            "overflow_x": null,
            "overflow_y": null,
            "padding": null,
            "right": null,
            "top": null,
            "visibility": null,
            "width": null
          }
        },
        "d11e682c5bb7471fa742c32da4c98774": {
          "model_module": "@jupyter-widgets/base",
          "model_name": "LayoutModel",
          "model_module_version": "1.2.0",
          "state": {
            "_model_module": "@jupyter-widgets/base",
            "_model_module_version": "1.2.0",
            "_model_name": "LayoutModel",
            "_view_count": null,
            "_view_module": "@jupyter-widgets/base",
            "_view_module_version": "1.2.0",
            "_view_name": "LayoutView",
            "align_content": null,
            "align_items": null,
            "align_self": null,
            "border": null,
            "bottom": null,
            "display": null,
            "flex": null,
            "flex_flow": null,
            "grid_area": null,
            "grid_auto_columns": null,
            "grid_auto_flow": null,
            "grid_auto_rows": null,
            "grid_column": null,
            "grid_gap": null,
            "grid_row": null,
            "grid_template_areas": null,
            "grid_template_columns": null,
            "grid_template_rows": null,
            "height": null,
            "justify_content": null,
            "justify_items": null,
            "left": null,
            "margin": null,
            "max_height": null,
            "max_width": null,
            "min_height": null,
            "min_width": null,
            "object_fit": null,
            "object_position": null,
            "order": null,
            "overflow": null,
            "overflow_x": null,
            "overflow_y": null,
            "padding": null,
            "right": null,
            "top": null,
            "visibility": null,
            "width": null
          }
        },
        "da93044eabab49c7804ebb99f5be860c": {
          "model_module": "@jupyter-widgets/controls",
          "model_name": "SliderStyleModel",
          "model_module_version": "1.5.0",
          "state": {
            "_model_module": "@jupyter-widgets/controls",
            "_model_module_version": "1.5.0",
            "_model_name": "SliderStyleModel",
            "_view_count": null,
            "_view_module": "@jupyter-widgets/base",
            "_view_module_version": "1.2.0",
            "_view_name": "StyleView",
            "description_width": "",
            "handle_color": null
          }
        },
        "68eee4e32a664e709c77447a66f1cb54": {
          "model_module": "@jupyter-widgets/base",
          "model_name": "LayoutModel",
          "model_module_version": "1.2.0",
          "state": {
            "_model_module": "@jupyter-widgets/base",
            "_model_module_version": "1.2.0",
            "_model_name": "LayoutModel",
            "_view_count": null,
            "_view_module": "@jupyter-widgets/base",
            "_view_module_version": "1.2.0",
            "_view_name": "LayoutView",
            "align_content": null,
            "align_items": null,
            "align_self": null,
            "border": null,
            "bottom": null,
            "display": null,
            "flex": null,
            "flex_flow": null,
            "grid_area": null,
            "grid_auto_columns": null,
            "grid_auto_flow": null,
            "grid_auto_rows": null,
            "grid_column": null,
            "grid_gap": null,
            "grid_row": null,
            "grid_template_areas": null,
            "grid_template_columns": null,
            "grid_template_rows": null,
            "height": null,
            "justify_content": null,
            "justify_items": null,
            "left": null,
            "margin": null,
            "max_height": null,
            "max_width": null,
            "min_height": null,
            "min_width": null,
            "object_fit": null,
            "object_position": null,
            "order": null,
            "overflow": null,
            "overflow_x": null,
            "overflow_y": null,
            "padding": null,
            "right": null,
            "top": null,
            "visibility": null,
            "width": null
          }
        },
        "006a50a9ad364106a967baf5aeb5bcdb": {
          "model_module": "@jupyter-widgets/controls",
          "model_name": "FloatProgressModel",
          "model_module_version": "1.5.0",
          "state": {
            "_dom_classes": [],
            "_model_module": "@jupyter-widgets/controls",
            "_model_module_version": "1.5.0",
            "_model_name": "FloatProgressModel",
            "_view_count": null,
            "_view_module": "@jupyter-widgets/controls",
            "_view_module_version": "1.5.0",
            "_view_name": "ProgressView",
            "bar_style": "",
            "description": "",
            "description_tooltip": null,
            "layout": "IPY_MODEL_28b93909a545486c85a14cfb6413f37c",
            "max": 1,
            "min": 0,
            "orientation": "horizontal",
            "style": "IPY_MODEL_c1be46a1067b47eea159e5ae47d50235",
            "value": 0
          }
        },
        "28b93909a545486c85a14cfb6413f37c": {
          "model_module": "@jupyter-widgets/base",
          "model_name": "LayoutModel",
          "model_module_version": "1.2.0",
          "state": {
            "_model_module": "@jupyter-widgets/base",
            "_model_module_version": "1.2.0",
            "_model_name": "LayoutModel",
            "_view_count": null,
            "_view_module": "@jupyter-widgets/base",
            "_view_module_version": "1.2.0",
            "_view_name": "LayoutView",
            "align_content": null,
            "align_items": null,
            "align_self": null,
            "border": null,
            "bottom": null,
            "display": null,
            "flex": null,
            "flex_flow": null,
            "grid_area": null,
            "grid_auto_columns": null,
            "grid_auto_flow": null,
            "grid_auto_rows": null,
            "grid_column": null,
            "grid_gap": null,
            "grid_row": null,
            "grid_template_areas": null,
            "grid_template_columns": null,
            "grid_template_rows": null,
            "height": null,
            "justify_content": null,
            "justify_items": null,
            "left": null,
            "margin": null,
            "max_height": null,
            "max_width": null,
            "min_height": null,
            "min_width": null,
            "object_fit": null,
            "object_position": null,
            "order": null,
            "overflow": null,
            "overflow_x": null,
            "overflow_y": null,
            "padding": null,
            "right": null,
            "top": null,
            "visibility": null,
            "width": null
          }
        },
        "c1be46a1067b47eea159e5ae47d50235": {
          "model_module": "@jupyter-widgets/controls",
          "model_name": "ProgressStyleModel",
          "model_module_version": "1.5.0",
          "state": {
            "_model_module": "@jupyter-widgets/controls",
            "_model_module_version": "1.5.0",
            "_model_name": "ProgressStyleModel",
            "_view_count": null,
            "_view_module": "@jupyter-widgets/base",
            "_view_module_version": "1.2.0",
            "_view_name": "StyleView",
            "bar_color": null,
            "description_width": ""
          }
        }
      }
    }
  },
  "nbformat": 4,
  "nbformat_minor": 0
}